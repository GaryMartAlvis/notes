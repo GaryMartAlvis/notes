{
 "cells": [
  {
   "cell_type": "code",
   "execution_count": 12,
   "metadata": {},
   "outputs": [
    {
     "data": {
      "text/plain": [
       "True"
      ]
     },
     "execution_count": 12,
     "metadata": {},
     "output_type": "execute_result"
    }
   ],
   "source": [
    "# Función para verificar si una string es palindromo.\n",
    "def es_palindromo(word: str) -> bool:\n",
    "    \"\"\"\n",
    "    Verifica si una palabra es palíndromo.\n",
    "    Args: word (str): La palabra a verificar.\n",
    "    Returns: bool: True si la palabra es palíndromo, False en caso contrario.\n",
    "    \"\"\"\n",
    "    word = word.replace(' ', '').lower()\n",
    "    return word == word[::-1]\n",
    "\n",
    "es_palindromo('Reconocer')"
   ]
  },
  {
   "cell_type": "code",
   "execution_count": 13,
   "metadata": {},
   "outputs": [
    {
     "name": "stdout",
     "output_type": "stream",
     "text": [
      "4548868\n",
      "4548868\n"
     ]
    }
   ],
   "source": [
    "# Quitar con slicing caracteres con secuencia fija\n",
    "# Sintaxi de slicing [star:end:step]\n",
    "num1 = '4-5-4-8-8-6-8'\n",
    "print(num1[::2])\n",
    "num2 = '-4-5-4-8-8-6-8'\n",
    "print(num2[1::2])"
   ]
  },
  {
   "cell_type": "code",
   "execution_count": 14,
   "metadata": {},
   "outputs": [
    {
     "name": "stdout",
     "output_type": "stream",
     "text": [
      "valor1: 10.5 - valor2: 203.8\n",
      "valor1: 203.8 - valor2: 10.5\n"
     ]
    }
   ],
   "source": [
    "# Tuplas one-line swapping \n",
    "# Intercambiar el valor de las siguientes variable con una sola linea de codigo\n",
    "valor1 = 10.5\n",
    "valor2 = 203.8\n",
    "print(f'valor1: {valor1} - valor2: {valor2}')\n",
    "\n",
    "# One-line swapping\n",
    "valor2, valor1 = valor1, valor2\n",
    "print(f'valor1: {valor1} - valor2: {valor2}')"
   ]
  },
  {
   "cell_type": "code",
   "execution_count": 25,
   "metadata": {},
   "outputs": [
    {
     "name": "stdout",
     "output_type": "stream",
     "text": [
      "{False, 1, 2, 3, 'sajira', 5, 'Doddy', 'Lubileny', 'Sajira', 'Gary'}\n",
      "True\n"
     ]
    }
   ],
   "source": [
    "# Busquedas en set\n",
    "my_set = {1,2,3,5,'Gary','Lubileny','Doddy','Sajira','sajira','Doddy',False,True,False}\n",
    "print(my_set)\n",
    "test_my_set = 'Lubileny' in my_set\n",
    "print(test_my_set)"
   ]
  }
 ],
 "metadata": {
  "kernelspec": {
   "display_name": "Python 3",
   "language": "python",
   "name": "python3"
  },
  "language_info": {
   "codemirror_mode": {
    "name": "ipython",
    "version": 3
   },
   "file_extension": ".py",
   "mimetype": "text/x-python",
   "name": "python",
   "nbconvert_exporter": "python",
   "pygments_lexer": "ipython3",
   "version": "3.11.5"
  }
 },
 "nbformat": 4,
 "nbformat_minor": 2
}
