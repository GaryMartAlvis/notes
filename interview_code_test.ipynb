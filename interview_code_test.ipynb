{
 "cells": [
  {
   "cell_type": "code",
   "execution_count": 1,
   "metadata": {},
   "outputs": [
    {
     "data": {
      "text/plain": [
       "True"
      ]
     },
     "execution_count": 1,
     "metadata": {},
     "output_type": "execute_result"
    }
   ],
   "source": [
    "# Función para verificar si una string es palindromo.\n",
    "def es_palindromo(word: str) -> bool:\n",
    "    \"\"\"\n",
    "    Verifica si una palabra es palíndromo.\n",
    "    Args: word (str): La palabra a verificar.\n",
    "    Returns: bool: True si la palabra es palíndromo, False en caso contrario.\n",
    "    \"\"\"\n",
    "    word = word.replace(' ', '').lower()\n",
    "    return word == word[::-1]\n",
    "\n",
    "es_palindromo('Reconocer')"
   ]
  },
  {
   "cell_type": "code",
   "execution_count": 21,
   "metadata": {},
   "outputs": [
    {
     "name": "stdout",
     "output_type": "stream",
     "text": [
      "4548868\n"
     ]
    }
   ],
   "source": [
    "# Quitar con slicing caracteres con secuencia fija\n",
    "number_fone = '-4-5-4-8-8-6-8'\n",
    "print(number_fone[1::2])"
   ]
  }
 ],
 "metadata": {
  "kernelspec": {
   "display_name": "Python 3",
   "language": "python",
   "name": "python3"
  },
  "language_info": {
   "codemirror_mode": {
    "name": "ipython",
    "version": 3
   },
   "file_extension": ".py",
   "mimetype": "text/x-python",
   "name": "python",
   "nbconvert_exporter": "python",
   "pygments_lexer": "ipython3",
   "version": "3.11.4"
  }
 },
 "nbformat": 4,
 "nbformat_minor": 2
}
